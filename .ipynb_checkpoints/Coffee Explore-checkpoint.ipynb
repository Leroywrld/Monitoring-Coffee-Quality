{
 "cells": [
  {
   "cell_type": "code",
   "execution_count": 1,
   "id": "17eaca51",
   "metadata": {},
   "outputs": [],
   "source": [
    "import seaborn as sns\n",
    "import pandas as pd\n",
    "import matplotlib.pyplot as plt\n",
    "import warnings\n",
    "warnings.filterwarnings(\"ignore\")"
   ]
  },
  {
   "cell_type": "code",
   "execution_count": 2,
   "id": "68dcf7d1",
   "metadata": {},
   "outputs": [],
   "source": [
    "## read the file\n",
    "arabica_coffee = pd.read_csv('arabica_data_cleaned.csv')"
   ]
  },
  {
   "cell_type": "code",
   "execution_count": 3,
   "id": "8f8980fd",
   "metadata": {
    "tags": []
   },
   "outputs": [],
   "source": [
    "def see_shape(df:pd.DataFrame)->tuple:\n",
    "    \"\"\"this function returns a tuple containing the shape of the dataframe and\n",
    "    the list of columns contained in the dataframe\"\"\"\n",
    "    shape = df.shape\n",
    "    cols_list = df.columns\n",
    "    return shape, cols_list"
   ]
  },
  {
   "cell_type": "code",
   "execution_count": 4,
   "id": "08b79e8d",
   "metadata": {},
   "outputs": [],
   "source": [
    "## list of columns to be dropped\n",
    "dropped_cols = ['Unnamed: 0', 'Species', 'Owner', 'Lot.Number', 'ICO.Number', 'Company', 'Altitude',\n",
    "                'Producer', 'Bag.Weight', 'In.Country.Partner', 'Grading.Date', 'Owner.1',\n",
    "                'Clean.Cup', 'Uniformity', 'Total.Cup.Points', 'Moisture', 'Category.One.Defects',\n",
    "                'Quakers', 'Color', 'Category.Two.Defects', 'Expiration', 'Certification.Address',\n",
    "                'Certification.Contact', 'unit_of_measurement', 'altitude_low_meters', 'altitude_high_meters']\n",
    "\n",
    "\n",
    "def drop_cols(df:pd.DataFrame, cols:list)->pd.DataFrame:\n",
    "    \"\"\"this function drops unwanted columns from a dataframe and returns\n",
    "    a dataframe with the remaining columns\"\"\"\n",
    "    df.drop(cols, axis='columns', inplace=True)\n",
    "    return df"
   ]
  },
  {
   "cell_type": "code",
   "execution_count": 5,
   "id": "42e968a9",
   "metadata": {},
   "outputs": [
    {
     "data": {
      "text/plain": [
       "Unnamed: 0                  0\n",
       "Species                     0\n",
       "Owner                       7\n",
       "Country.of.Origin           1\n",
       "Farm.Name                 356\n",
       "Lot.Number               1041\n",
       "Mill                      310\n",
       "ICO.Number                146\n",
       "Company                   209\n",
       "Altitude                  223\n",
       "Region                     57\n",
       "Producer                  230\n",
       "Number.of.Bags              0\n",
       "Bag.Weight                  0\n",
       "In.Country.Partner          0\n",
       "Harvest.Year               47\n",
       "Grading.Date                0\n",
       "Owner.1                     7\n",
       "Variety                   201\n",
       "Processing.Method         152\n",
       "Aroma                       0\n",
       "Flavor                      0\n",
       "Aftertaste                  0\n",
       "Acidity                     0\n",
       "Body                        0\n",
       "Balance                     0\n",
       "Uniformity                  0\n",
       "Clean.Cup                   0\n",
       "Sweetness                   0\n",
       "Cupper.Points               0\n",
       "Total.Cup.Points            0\n",
       "Moisture                    0\n",
       "Category.One.Defects        0\n",
       "Quakers                     1\n",
       "Color                     216\n",
       "Category.Two.Defects        0\n",
       "Expiration                  0\n",
       "Certification.Body          0\n",
       "Certification.Address       0\n",
       "Certification.Contact       0\n",
       "unit_of_measurement         0\n",
       "altitude_low_meters       227\n",
       "altitude_high_meters      227\n",
       "altitude_mean_meters      227\n",
       "dtype: int64"
      ]
     },
     "execution_count": 5,
     "metadata": {},
     "output_type": "execute_result"
    }
   ],
   "source": [
    "arabica_coffee.isnull().sum()"
   ]
  },
  {
   "cell_type": "code",
   "execution_count": 6,
   "id": "b430d8aa",
   "metadata": {},
   "outputs": [],
   "source": [
    "def drop_nulls(df:pd.DataFrame)->pd.DataFrame:\n",
    "    \"\"\"this function drops missing along the rows of\n",
    "    the dataframe. It returns a dataframe free of missing values\"\"\"\n",
    "    df.dropna(axis='rows', inplace=True)\n",
    "    return df"
   ]
  },
  {
   "cell_type": "code",
   "execution_count": 7,
   "id": "3d56a47e",
   "metadata": {},
   "outputs": [],
   "source": [
    "def rename_cols(df:pd.DataFrame)->pd.DataFrame:\n",
    "    df.columns = [ name.lower().replace('.', '_') for name in df.columns]\n",
    "    return df   "
   ]
  },
  {
   "cell_type": "code",
   "execution_count": null,
   "id": "4454e609",
   "metadata": {},
   "outputs": [],
   "source": [
    "type_dict = {'country_of_origin':'string_', 'farm_name':'string_', 'mill':'string_', 'region':'string_',\n",
    "             'number_of_bags':'int16', 'harvest_year':'int16', 'variety':'category', 'processing_method':'category',\n",
    "             'aroma':'float16', ''\n",
    "    \n",
    "}\n",
    "\n",
    "def tweak_dtypes(df:pd.DataFrame, type_dict:dict)->pd.DataFrame:\n",
    "    df.astype(type_dict)"
   ]
  },
  {
   "cell_type": "code",
   "execution_count": 8,
   "id": "a2c86ff5",
   "metadata": {},
   "outputs": [],
   "source": [
    "arabica_coffee = arabica_coffee.pipe(drop_cols, dropped_cols).pipe(drop_nulls).pipe(rename_cols)"
   ]
  },
  {
   "cell_type": "code",
   "execution_count": 9,
   "id": "a8ea5386",
   "metadata": {},
   "outputs": [
    {
     "name": "stdout",
     "output_type": "stream",
     "text": [
      "<class 'pandas.core.frame.DataFrame'>\n",
      "Int64Index: 743 entries, 1 to 1309\n",
      "Data columns (total 18 columns):\n",
      " #   Column                Non-Null Count  Dtype  \n",
      "---  ------                --------------  -----  \n",
      " 0   country_of_origin     743 non-null    object \n",
      " 1   farm_name             743 non-null    object \n",
      " 2   mill                  743 non-null    object \n",
      " 3   region                743 non-null    object \n",
      " 4   number_of_bags        743 non-null    int64  \n",
      " 5   harvest_year          743 non-null    object \n",
      " 6   variety               743 non-null    object \n",
      " 7   processing_method     743 non-null    object \n",
      " 8   aroma                 743 non-null    float64\n",
      " 9   flavor                743 non-null    float64\n",
      " 10  aftertaste            743 non-null    float64\n",
      " 11  acidity               743 non-null    float64\n",
      " 12  body                  743 non-null    float64\n",
      " 13  balance               743 non-null    float64\n",
      " 14  sweetness             743 non-null    float64\n",
      " 15  cupper_points         743 non-null    float64\n",
      " 16  certification_body    743 non-null    object \n",
      " 17  altitude_mean_meters  743 non-null    float64\n",
      "dtypes: float64(9), int64(1), object(8)\n",
      "memory usage: 110.3+ KB\n"
     ]
    }
   ],
   "source": [
    "arabica_coffee.info()"
   ]
  },
  {
   "cell_type": "markdown",
   "id": "8389a4c5",
   "metadata": {},
   "source": [
    "### Take a close look at following the columns"
   ]
  },
  {
   "cell_type": "markdown",
   "id": "15f62cef",
   "metadata": {},
   "source": [
    "- _Bag weight_\n",
    "- _Harvest Year_\n",
    "- _Variety_\n",
    "- _Species_\n",
    "- _Country of origin_\n",
    "- _Region_\n",
    "- _Mill_\n",
    "- _Producer_\n",
    "- _Processing method_\n",
    "- _Color_\n"
   ]
  },
  {
   "cell_type": "markdown",
   "id": "33a40773-b558-4df9-9cdc-b53a6b8428af",
   "metadata": {},
   "source": [
    "#### Clean up _Harvest.Year_ column"
   ]
  },
  {
   "cell_type": "code",
   "execution_count": 14,
   "id": "8f6f987c-7e45-46f2-924c-fcc046a95b25",
   "metadata": {},
   "outputs": [
    {
     "data": {
      "text/plain": [
       "1       2014.0\n",
       "4       2014.0\n",
       "9       2014.0\n",
       "18      2015.0\n",
       "21      2014.0\n",
       "         ...  \n",
       "1308    2016.0\n",
       "1309    2012.0\n",
       "8          NaN\n",
       "11         NaN\n",
       "22         NaN\n",
       "Name: Harvest.Year, Length: 745, dtype: float64"
      ]
     },
     "execution_count": 14,
     "metadata": {},
     "output_type": "execute_result"
    }
   ],
   "source": [
    "def transform_year(df:pd.DataFrame):\n",
    "    Year = df['Harvest.Year'].str.split('/', 1, expand=True).astype('datetime64[ns]')\n",
    "    df['Harvest.Year'] = Year[0].dt.year\n",
    "    return df['Harvest.Year']\n",
    "transform_year(coffee)"
   ]
  },
  {
   "cell_type": "markdown",
   "id": "1c2a9643-0cb4-4113-a3be-dcbc63892b8c",
   "metadata": {},
   "source": [
    "#### Clean up _Bag weight_ column"
   ]
  },
  {
   "cell_type": "code",
   "execution_count": 15,
   "id": "189d9f2f-0e11-4591-b363-efe9703b939e",
   "metadata": {},
   "outputs": [
    {
     "data": {
      "text/plain": [
       "array(['60 kg', '3 lbs', '1 kg', '50 kg', '2 lbs', '15 kg', '2 kg',\n",
       "       '69 kg', '30 kg', '70 kg', '46 kg', '40 kg', '20 kg', '34 kg',\n",
       "       '1 lbs', '18975 kg', '12000 kg', '80 kg', '5 kg', '25 kg', '66 kg',\n",
       "       '18 kg', '10 kg', '5 lbs', '29 kg', '1218 kg', '0 kg', '35 kg',\n",
       "       '1500 kg', '3 kg', '350 kg', '67 kg', '59 kg', '4 lbs', '55 lbs'],\n",
       "      dtype=object)"
      ]
     },
     "execution_count": 15,
     "metadata": {},
     "output_type": "execute_result"
    }
   ],
   "source": [
    "coffee['Bag.Weight'].unique()"
   ]
  },
  {
   "cell_type": "code",
   "execution_count": 16,
   "id": "2a244044-b633-4dfa-9ad5-2219ffd694c7",
   "metadata": {},
   "outputs": [],
   "source": [
    "def transform_weight(df):\n",
    "    df[['Weight', 'Units']] = df['Bag.Weight'].str.split(expand=True)\n",
    "    df['Weight'] = df['Weight'].astype('int32')\n",
    "    df.loc[df['Units']=='lbs', ['Weight']] = df.loc[df['Units']=='lbs', ['Weight']].values / 2.2\n",
    "\n",
    "transform_weight(coffee)"
   ]
  },
  {
   "cell_type": "markdown",
   "id": "9aa7d3a6-cd8f-426a-b880-185e204dfb3c",
   "metadata": {},
   "source": [
    "#### Cleaning up Variety"
   ]
  },
  {
   "cell_type": "code",
   "execution_count": 17,
   "id": "1794f6a7-ac59-46e3-867c-da7e1efd264f",
   "metadata": {},
   "outputs": [
    {
     "data": {
      "text/plain": [
       "array(['Other', 'Catimor', 'Caturra', 'SL14', 'Sumatra', 'SL34',\n",
       "       'Bourbon', 'SL28', 'Gesha', 'Catuai', 'Pacamara', 'Typica', 'Java',\n",
       "       'Peaberry', 'Pacas', 'Mandheling', 'Mundo Novo', 'Yellow Bourbon',\n",
       "       'Ruiru 11', 'Arusha', 'Sulawesi', 'Blue Mountain'], dtype=object)"
      ]
     },
     "execution_count": 17,
     "metadata": {},
     "output_type": "execute_result"
    }
   ],
   "source": [
    "coffee['Variety'].unique()"
   ]
  },
  {
   "cell_type": "code",
   "execution_count": 18,
   "id": "b097c68d-3cc1-4353-bbc6-3b96f2e3536d",
   "metadata": {},
   "outputs": [],
   "source": [
    "def transform_variety(df):\n",
    "    df.drop(df[df['Variety'] == 'Other'].index, inplace=True)\n",
    "    df['Variety'] = df['Variety'].astype('category')\n",
    "    \n",
    "transform_variety(coffee)"
   ]
  },
  {
   "cell_type": "markdown",
   "id": "5fb93d49-52e1-4754-961b-1c26e9a477a7",
   "metadata": {},
   "source": [
    "#### Cleaning up processing method"
   ]
  },
  {
   "cell_type": "code",
   "execution_count": 19,
   "id": "5ea026c0-dfcb-4ad9-b2b8-8c66a61eba47",
   "metadata": {},
   "outputs": [
    {
     "data": {
      "text/plain": [
       "array(['Washed / Wet', 'Pulped natural / honey',\n",
       "       'Semi-washed / Semi-pulped', 'Natural / Dry', 'Other'],\n",
       "      dtype=object)"
      ]
     },
     "execution_count": 19,
     "metadata": {},
     "output_type": "execute_result"
    }
   ],
   "source": [
    "coffee['Processing.Method'].unique()"
   ]
  },
  {
   "cell_type": "code",
   "execution_count": 20,
   "id": "458f86c3-1ae1-4ae1-9dfe-be1d094d2949",
   "metadata": {},
   "outputs": [],
   "source": [
    "def transform_pro_method(df):\n",
    "    df['Processing.Method'] = df['Processing.Method'].replace(['Pulped natural / honey',\n",
    "       'Semi-washed / Semi-pulped'], 'Washed / Wet')\n",
    "     \n",
    "    df['Processing.Method'] = df['Processing.Method'].replace('Other', 'Natural / Dry')\n",
    "    \n",
    "    df['Processing.Method'] = df['Processing.Method'].astype('category')\n",
    "transform_pro_method(coffee)"
   ]
  },
  {
   "cell_type": "markdown",
   "id": "7c7e555c-0343-4f3a-805a-373b68f60a8b",
   "metadata": {},
   "source": [
    "#### Cleaning up color column"
   ]
  },
  {
   "cell_type": "code",
   "execution_count": 21,
   "id": "e0cd8629-774f-44a1-ab90-bf426bf070be",
   "metadata": {},
   "outputs": [],
   "source": [
    "def alter_color(df):\n",
    "    df.drop(coffee[df['Color'] == 'None'].index, inplace=True)\n",
    "    df['Color'] = df['Color'].astype('category')\n",
    "alter_color(coffee)"
   ]
  },
  {
   "cell_type": "markdown",
   "id": "457398b9-2343-4ae4-940e-4ba2b007df11",
   "metadata": {},
   "source": [
    "#### Dropping unnecessary chunks"
   ]
  },
  {
   "cell_type": "code",
   "execution_count": 22,
   "id": "341b6cc4-554c-4dcb-b0c5-2260078732da",
   "metadata": {},
   "outputs": [],
   "source": [
    "def drop_cols(df):\n",
    "    df.drop(['Units', 'Bag.Weight'], axis=1, inplace=True)\n",
    "    df.dropna(axis=0, inplace=True)\n",
    "drop_cols(coffee)"
   ]
  },
  {
   "cell_type": "markdown",
   "id": "f70875ec-e96b-4d70-a490-8f1a4f14463d",
   "metadata": {},
   "source": [
    "#### Final act"
   ]
  },
  {
   "cell_type": "code",
   "execution_count": 23,
   "id": "1d28c336-0c41-4e57-97a7-372b58e5c58f",
   "metadata": {},
   "outputs": [],
   "source": [
    "def tweak_dtypes(df):\n",
    "    return df.astype({'Country.of.Origin':'category',\n",
    "                       'Region':'category', 'Mill':'category',\n",
    "                       'Producer':'category', 'Harvest.Year':'int64'})\n",
    "\n",
    "def sort_reset(df):\n",
    "    df.sort_values(by='Harvest.Year', inplace=True)\n",
    "    df.reset_index(drop=True, inplace=True)\n",
    "tweak_dtypes(coffee)\n",
    "sort_reset(coffee)"
   ]
  },
  {
   "cell_type": "code",
   "execution_count": 24,
   "id": "e861a760-8389-4081-8571-39297378d68c",
   "metadata": {},
   "outputs": [
    {
     "data": {
      "text/html": [
       "<div>\n",
       "<style scoped>\n",
       "    .dataframe tbody tr th:only-of-type {\n",
       "        vertical-align: middle;\n",
       "    }\n",
       "\n",
       "    .dataframe tbody tr th {\n",
       "        vertical-align: top;\n",
       "    }\n",
       "\n",
       "    .dataframe thead th {\n",
       "        text-align: right;\n",
       "    }\n",
       "</style>\n",
       "<table border=\"1\" class=\"dataframe\">\n",
       "  <thead>\n",
       "    <tr style=\"text-align: right;\">\n",
       "      <th></th>\n",
       "      <th>Harvest.Year</th>\n",
       "      <th>Variety</th>\n",
       "      <th>Country.of.Origin</th>\n",
       "      <th>Region</th>\n",
       "      <th>Mill</th>\n",
       "      <th>Producer</th>\n",
       "      <th>Processing.Method</th>\n",
       "      <th>Flavor</th>\n",
       "      <th>Aftertaste</th>\n",
       "      <th>Color</th>\n",
       "      <th>Moisture</th>\n",
       "      <th>altitude_mean_meters</th>\n",
       "      <th>Number.of.Bags</th>\n",
       "      <th>Cupper.Points</th>\n",
       "      <th>Weight</th>\n",
       "    </tr>\n",
       "  </thead>\n",
       "  <tbody>\n",
       "    <tr>\n",
       "      <th>0</th>\n",
       "      <td>2011.0</td>\n",
       "      <td>Caturra</td>\n",
       "      <td>Colombia</td>\n",
       "      <td>huila</td>\n",
       "      <td>trilladora boananza</td>\n",
       "      <td>Exportadora de cafe condor s.a</td>\n",
       "      <td>Natural / Dry</td>\n",
       "      <td>7.42</td>\n",
       "      <td>7.25</td>\n",
       "      <td>Green</td>\n",
       "      <td>0.11</td>\n",
       "      <td>1750.00</td>\n",
       "      <td>250</td>\n",
       "      <td>7.17</td>\n",
       "      <td>70.0</td>\n",
       "    </tr>\n",
       "    <tr>\n",
       "      <th>1</th>\n",
       "      <td>2011.0</td>\n",
       "      <td>Yellow Bourbon</td>\n",
       "      <td>Brazil</td>\n",
       "      <td>carmo de minas</td>\n",
       "      <td>cocarive</td>\n",
       "      <td>Nazareth Dias Pereira</td>\n",
       "      <td>Washed / Wet</td>\n",
       "      <td>7.83</td>\n",
       "      <td>7.58</td>\n",
       "      <td>Green</td>\n",
       "      <td>0.12</td>\n",
       "      <td>1250.00</td>\n",
       "      <td>300</td>\n",
       "      <td>7.83</td>\n",
       "      <td>1.0</td>\n",
       "    </tr>\n",
       "    <tr>\n",
       "      <th>2</th>\n",
       "      <td>2012.0</td>\n",
       "      <td>Catuai</td>\n",
       "      <td>Guatemala</td>\n",
       "      <td>nuevo oriente</td>\n",
       "      <td>beneficio serben</td>\n",
       "      <td>WILLIAM ESTUARDO MARTINEZ PACHECO</td>\n",
       "      <td>Washed / Wet</td>\n",
       "      <td>6.67</td>\n",
       "      <td>6.67</td>\n",
       "      <td>Green</td>\n",
       "      <td>0.10</td>\n",
       "      <td>1417.32</td>\n",
       "      <td>275</td>\n",
       "      <td>6.67</td>\n",
       "      <td>1.0</td>\n",
       "    </tr>\n",
       "    <tr>\n",
       "      <th>3</th>\n",
       "      <td>2012.0</td>\n",
       "      <td>Bourbon</td>\n",
       "      <td>Brazil</td>\n",
       "      <td>sul de minas</td>\n",
       "      <td>armazens gerais cocarive</td>\n",
       "      <td>NAZARETH DIAS PEREIRA</td>\n",
       "      <td>Washed / Wet</td>\n",
       "      <td>7.75</td>\n",
       "      <td>7.50</td>\n",
       "      <td>Bluish-Green</td>\n",
       "      <td>0.12</td>\n",
       "      <td>1250.00</td>\n",
       "      <td>300</td>\n",
       "      <td>7.83</td>\n",
       "      <td>60.0</td>\n",
       "    </tr>\n",
       "    <tr>\n",
       "      <th>4</th>\n",
       "      <td>2012.0</td>\n",
       "      <td>Caturra</td>\n",
       "      <td>Guatemala</td>\n",
       "      <td>oriente</td>\n",
       "      <td>ixchel</td>\n",
       "      <td>UNEX</td>\n",
       "      <td>Washed / Wet</td>\n",
       "      <td>7.17</td>\n",
       "      <td>7.33</td>\n",
       "      <td>Green</td>\n",
       "      <td>0.11</td>\n",
       "      <td>1400.00</td>\n",
       "      <td>250</td>\n",
       "      <td>7.25</td>\n",
       "      <td>1.0</td>\n",
       "    </tr>\n",
       "    <tr>\n",
       "      <th>...</th>\n",
       "      <td>...</td>\n",
       "      <td>...</td>\n",
       "      <td>...</td>\n",
       "      <td>...</td>\n",
       "      <td>...</td>\n",
       "      <td>...</td>\n",
       "      <td>...</td>\n",
       "      <td>...</td>\n",
       "      <td>...</td>\n",
       "      <td>...</td>\n",
       "      <td>...</td>\n",
       "      <td>...</td>\n",
       "      <td>...</td>\n",
       "      <td>...</td>\n",
       "      <td>...</td>\n",
       "    </tr>\n",
       "    <tr>\n",
       "      <th>633</th>\n",
       "      <td>2017.0</td>\n",
       "      <td>Gesha</td>\n",
       "      <td>Ethiopia</td>\n",
       "      <td>sidamo</td>\n",
       "      <td>kerchanshe</td>\n",
       "      <td>Kerchanshe Trading P.L.C</td>\n",
       "      <td>Natural / Dry</td>\n",
       "      <td>7.75</td>\n",
       "      <td>7.67</td>\n",
       "      <td>Green</td>\n",
       "      <td>0.11</td>\n",
       "      <td>1800.00</td>\n",
       "      <td>320</td>\n",
       "      <td>7.92</td>\n",
       "      <td>60.0</td>\n",
       "    </tr>\n",
       "    <tr>\n",
       "      <th>634</th>\n",
       "      <td>2017.0</td>\n",
       "      <td>Caturra</td>\n",
       "      <td>Honduras</td>\n",
       "      <td>comayagua</td>\n",
       "      <td>cigrah s.a de c.v.</td>\n",
       "      <td>Nahun Maldonado</td>\n",
       "      <td>Washed / Wet</td>\n",
       "      <td>7.83</td>\n",
       "      <td>7.75</td>\n",
       "      <td>Green</td>\n",
       "      <td>0.10</td>\n",
       "      <td>1500.00</td>\n",
       "      <td>275</td>\n",
       "      <td>7.75</td>\n",
       "      <td>66.0</td>\n",
       "    </tr>\n",
       "    <tr>\n",
       "      <th>635</th>\n",
       "      <td>2017.0</td>\n",
       "      <td>Bourbon</td>\n",
       "      <td>Guatemala</td>\n",
       "      <td>san marcos</td>\n",
       "      <td>beneficio ixchel</td>\n",
       "      <td>ANGEL DE LEON</td>\n",
       "      <td>Washed / Wet</td>\n",
       "      <td>7.42</td>\n",
       "      <td>7.08</td>\n",
       "      <td>Green</td>\n",
       "      <td>0.10</td>\n",
       "      <td>1700.00</td>\n",
       "      <td>50</td>\n",
       "      <td>7.58</td>\n",
       "      <td>69.0</td>\n",
       "    </tr>\n",
       "    <tr>\n",
       "      <th>636</th>\n",
       "      <td>2017.0</td>\n",
       "      <td>Bourbon</td>\n",
       "      <td>Brazil</td>\n",
       "      <td>south of minas</td>\n",
       "      <td>dry mill</td>\n",
       "      <td>Ipanema Agricola S.A</td>\n",
       "      <td>Natural / Dry</td>\n",
       "      <td>7.83</td>\n",
       "      <td>7.50</td>\n",
       "      <td>Green</td>\n",
       "      <td>0.11</td>\n",
       "      <td>890.00</td>\n",
       "      <td>320</td>\n",
       "      <td>7.83</td>\n",
       "      <td>60.0</td>\n",
       "    </tr>\n",
       "    <tr>\n",
       "      <th>637</th>\n",
       "      <td>2018.0</td>\n",
       "      <td>Catimor</td>\n",
       "      <td>Honduras</td>\n",
       "      <td>western region</td>\n",
       "      <td>cafico</td>\n",
       "      <td>Cafes Finos de Corquin</td>\n",
       "      <td>Washed / Wet</td>\n",
       "      <td>7.42</td>\n",
       "      <td>7.08</td>\n",
       "      <td>Blue-Green</td>\n",
       "      <td>0.11</td>\n",
       "      <td>1200.00</td>\n",
       "      <td>275</td>\n",
       "      <td>7.33</td>\n",
       "      <td>69.0</td>\n",
       "    </tr>\n",
       "  </tbody>\n",
       "</table>\n",
       "<p>638 rows × 15 columns</p>\n",
       "</div>"
      ],
      "text/plain": [
       "     Harvest.Year         Variety Country.of.Origin          Region  \\\n",
       "0          2011.0         Caturra          Colombia           huila   \n",
       "1          2011.0  Yellow Bourbon            Brazil  carmo de minas   \n",
       "2          2012.0          Catuai         Guatemala   nuevo oriente   \n",
       "3          2012.0         Bourbon            Brazil    sul de minas   \n",
       "4          2012.0         Caturra         Guatemala         oriente   \n",
       "..            ...             ...               ...             ...   \n",
       "633        2017.0           Gesha          Ethiopia          sidamo   \n",
       "634        2017.0         Caturra          Honduras       comayagua   \n",
       "635        2017.0         Bourbon         Guatemala      san marcos   \n",
       "636        2017.0         Bourbon            Brazil  south of minas   \n",
       "637        2018.0         Catimor          Honduras  western region   \n",
       "\n",
       "                         Mill                           Producer  \\\n",
       "0         trilladora boananza     Exportadora de cafe condor s.a   \n",
       "1                    cocarive              Nazareth Dias Pereira   \n",
       "2            beneficio serben  WILLIAM ESTUARDO MARTINEZ PACHECO   \n",
       "3    armazens gerais cocarive              NAZARETH DIAS PEREIRA   \n",
       "4                      ixchel                               UNEX   \n",
       "..                        ...                                ...   \n",
       "633                kerchanshe           Kerchanshe Trading P.L.C   \n",
       "634        cigrah s.a de c.v.                    Nahun Maldonado   \n",
       "635          beneficio ixchel                      ANGEL DE LEON   \n",
       "636                  dry mill               Ipanema Agricola S.A   \n",
       "637                    cafico             Cafes Finos de Corquin   \n",
       "\n",
       "    Processing.Method  Flavor  Aftertaste         Color  Moisture  \\\n",
       "0       Natural / Dry    7.42        7.25         Green      0.11   \n",
       "1        Washed / Wet    7.83        7.58         Green      0.12   \n",
       "2        Washed / Wet    6.67        6.67         Green      0.10   \n",
       "3        Washed / Wet    7.75        7.50  Bluish-Green      0.12   \n",
       "4        Washed / Wet    7.17        7.33         Green      0.11   \n",
       "..                ...     ...         ...           ...       ...   \n",
       "633     Natural / Dry    7.75        7.67         Green      0.11   \n",
       "634      Washed / Wet    7.83        7.75         Green      0.10   \n",
       "635      Washed / Wet    7.42        7.08         Green      0.10   \n",
       "636     Natural / Dry    7.83        7.50         Green      0.11   \n",
       "637      Washed / Wet    7.42        7.08    Blue-Green      0.11   \n",
       "\n",
       "     altitude_mean_meters  Number.of.Bags  Cupper.Points  Weight  \n",
       "0                 1750.00             250           7.17    70.0  \n",
       "1                 1250.00             300           7.83     1.0  \n",
       "2                 1417.32             275           6.67     1.0  \n",
       "3                 1250.00             300           7.83    60.0  \n",
       "4                 1400.00             250           7.25     1.0  \n",
       "..                    ...             ...            ...     ...  \n",
       "633               1800.00             320           7.92    60.0  \n",
       "634               1500.00             275           7.75    66.0  \n",
       "635               1700.00              50           7.58    69.0  \n",
       "636                890.00             320           7.83    60.0  \n",
       "637               1200.00             275           7.33    69.0  \n",
       "\n",
       "[638 rows x 15 columns]"
      ]
     },
     "execution_count": 24,
     "metadata": {},
     "output_type": "execute_result"
    }
   ],
   "source": [
    "coffee\n",
    "## Looks quite clean to me"
   ]
  },
  {
   "cell_type": "code",
   "execution_count": 25,
   "id": "60a9b353-ec11-488b-a6a9-482d610d875b",
   "metadata": {},
   "outputs": [
    {
     "name": "stdout",
     "output_type": "stream",
     "text": [
      "<class 'pandas.core.frame.DataFrame'>\n",
      "RangeIndex: 638 entries, 0 to 637\n",
      "Data columns (total 15 columns):\n",
      " #   Column                Non-Null Count  Dtype   \n",
      "---  ------                --------------  -----   \n",
      " 0   Harvest.Year          638 non-null    float64 \n",
      " 1   Variety               638 non-null    category\n",
      " 2   Country.of.Origin     638 non-null    object  \n",
      " 3   Region                638 non-null    object  \n",
      " 4   Mill                  638 non-null    object  \n",
      " 5   Producer              638 non-null    object  \n",
      " 6   Processing.Method     638 non-null    category\n",
      " 7   Flavor                638 non-null    float64 \n",
      " 8   Aftertaste            638 non-null    float64 \n",
      " 9   Color                 638 non-null    category\n",
      " 10  Moisture              638 non-null    float64 \n",
      " 11  altitude_mean_meters  638 non-null    float64 \n",
      " 12  Number.of.Bags        638 non-null    int64   \n",
      " 13  Cupper.Points         638 non-null    float64 \n",
      " 14  Weight                638 non-null    float64 \n",
      "dtypes: category(3), float64(7), int64(1), object(4)\n",
      "memory usage: 62.8+ KB\n"
     ]
    }
   ],
   "source": [
    "coffee.info()"
   ]
  },
  {
   "cell_type": "markdown",
   "id": "c7bb1abb-16be-4aca-a599-6f325635449c",
   "metadata": {},
   "source": [
    "### **Time to visualize some distributions**"
   ]
  },
  {
   "cell_type": "code",
   "execution_count": 26,
   "id": "93d64eb2-ccfa-4fc5-81ab-51dfecd139d0",
   "metadata": {},
   "outputs": [
    {
     "data": {
      "text/html": [
       "<div>\n",
       "<style scoped>\n",
       "    .dataframe tbody tr th:only-of-type {\n",
       "        vertical-align: middle;\n",
       "    }\n",
       "\n",
       "    .dataframe tbody tr th {\n",
       "        vertical-align: top;\n",
       "    }\n",
       "\n",
       "    .dataframe thead th {\n",
       "        text-align: right;\n",
       "    }\n",
       "</style>\n",
       "<table border=\"1\" class=\"dataframe\">\n",
       "  <thead>\n",
       "    <tr style=\"text-align: right;\">\n",
       "      <th></th>\n",
       "      <th>Harvest.Year</th>\n",
       "      <th>Flavor</th>\n",
       "      <th>Aftertaste</th>\n",
       "      <th>Moisture</th>\n",
       "      <th>altitude_mean_meters</th>\n",
       "      <th>Number.of.Bags</th>\n",
       "      <th>Cupper.Points</th>\n",
       "      <th>Weight</th>\n",
       "    </tr>\n",
       "  </thead>\n",
       "  <tbody>\n",
       "    <tr>\n",
       "      <th>count</th>\n",
       "      <td>638.000000</td>\n",
       "      <td>638.000000</td>\n",
       "      <td>638.000000</td>\n",
       "      <td>638.000000</td>\n",
       "      <td>638.000000</td>\n",
       "      <td>638.000000</td>\n",
       "      <td>638.000000</td>\n",
       "      <td>638.000000</td>\n",
       "    </tr>\n",
       "    <tr>\n",
       "      <th>mean</th>\n",
       "      <td>2014.031348</td>\n",
       "      <td>7.491803</td>\n",
       "      <td>7.355219</td>\n",
       "      <td>0.098025</td>\n",
       "      <td>1845.234001</td>\n",
       "      <td>170.051724</td>\n",
       "      <td>7.440705</td>\n",
       "      <td>146.812197</td>\n",
       "    </tr>\n",
       "    <tr>\n",
       "      <th>std</th>\n",
       "      <td>1.673214</td>\n",
       "      <td>0.302745</td>\n",
       "      <td>0.310025</td>\n",
       "      <td>0.038306</td>\n",
       "      <td>10577.368630</td>\n",
       "      <td>127.064103</td>\n",
       "      <td>0.382655</td>\n",
       "      <td>1381.423243</td>\n",
       "    </tr>\n",
       "    <tr>\n",
       "      <th>min</th>\n",
       "      <td>2011.000000</td>\n",
       "      <td>6.170000</td>\n",
       "      <td>6.170000</td>\n",
       "      <td>0.000000</td>\n",
       "      <td>1.000000</td>\n",
       "      <td>1.000000</td>\n",
       "      <td>5.250000</td>\n",
       "      <td>0.000000</td>\n",
       "    </tr>\n",
       "    <tr>\n",
       "      <th>25%</th>\n",
       "      <td>2012.250000</td>\n",
       "      <td>7.330000</td>\n",
       "      <td>7.170000</td>\n",
       "      <td>0.100000</td>\n",
       "      <td>1100.000000</td>\n",
       "      <td>25.000000</td>\n",
       "      <td>7.250000</td>\n",
       "      <td>1.000000</td>\n",
       "    </tr>\n",
       "    <tr>\n",
       "      <th>50%</th>\n",
       "      <td>2014.000000</td>\n",
       "      <td>7.500000</td>\n",
       "      <td>7.420000</td>\n",
       "      <td>0.110000</td>\n",
       "      <td>1300.000000</td>\n",
       "      <td>250.000000</td>\n",
       "      <td>7.500000</td>\n",
       "      <td>32.000000</td>\n",
       "    </tr>\n",
       "    <tr>\n",
       "      <th>75%</th>\n",
       "      <td>2015.000000</td>\n",
       "      <td>7.670000</td>\n",
       "      <td>7.560000</td>\n",
       "      <td>0.120000</td>\n",
       "      <td>1500.000000</td>\n",
       "      <td>275.000000</td>\n",
       "      <td>7.670000</td>\n",
       "      <td>69.000000</td>\n",
       "    </tr>\n",
       "    <tr>\n",
       "      <th>max</th>\n",
       "      <td>2018.000000</td>\n",
       "      <td>8.250000</td>\n",
       "      <td>8.170000</td>\n",
       "      <td>0.140000</td>\n",
       "      <td>190164.000000</td>\n",
       "      <td>600.000000</td>\n",
       "      <td>8.500000</td>\n",
       "      <td>18975.000000</td>\n",
       "    </tr>\n",
       "  </tbody>\n",
       "</table>\n",
       "</div>"
      ],
      "text/plain": [
       "       Harvest.Year      Flavor  Aftertaste    Moisture  altitude_mean_meters  \\\n",
       "count    638.000000  638.000000  638.000000  638.000000            638.000000   \n",
       "mean    2014.031348    7.491803    7.355219    0.098025           1845.234001   \n",
       "std        1.673214    0.302745    0.310025    0.038306          10577.368630   \n",
       "min     2011.000000    6.170000    6.170000    0.000000              1.000000   \n",
       "25%     2012.250000    7.330000    7.170000    0.100000           1100.000000   \n",
       "50%     2014.000000    7.500000    7.420000    0.110000           1300.000000   \n",
       "75%     2015.000000    7.670000    7.560000    0.120000           1500.000000   \n",
       "max     2018.000000    8.250000    8.170000    0.140000         190164.000000   \n",
       "\n",
       "       Number.of.Bags  Cupper.Points        Weight  \n",
       "count      638.000000     638.000000    638.000000  \n",
       "mean       170.051724       7.440705    146.812197  \n",
       "std        127.064103       0.382655   1381.423243  \n",
       "min          1.000000       5.250000      0.000000  \n",
       "25%         25.000000       7.250000      1.000000  \n",
       "50%        250.000000       7.500000     32.000000  \n",
       "75%        275.000000       7.670000     69.000000  \n",
       "max        600.000000       8.500000  18975.000000  "
      ]
     },
     "execution_count": 26,
     "metadata": {},
     "output_type": "execute_result"
    }
   ],
   "source": [
    "coffee.describe()"
   ]
  },
  {
   "cell_type": "code",
   "execution_count": 27,
   "id": "5c95f4b3-e9ae-471e-9ee9-ab3bfac7446b",
   "metadata": {},
   "outputs": [
    {
     "data": {
      "image/png": "[encoded data removed]",
      "text/plain": [
       "<Figure size 792x504 with 1 Axes>"
      ]
     },
     "metadata": {
      "needs_background": "light"
     },
     "output_type": "display_data"
    }
   ],
   "source": [
    "fig, ax = plt.subplots(figsize=(11,7))\n",
    "sns.set_style('darkgrid')\n",
    "palette =['#654321', '#0BA8E6']\n",
    "sns.boxplot(x=\"Processing.Method\", y=\"Cupper.Points\", palette=palette, data=coffee)\n",
    "plt.show()"
   ]
  },
  {
   "cell_type": "code",
   "execution_count": 28,
   "id": "7613329a-904f-4a0b-ac3b-f5bf12b11b1f",
   "metadata": {},
   "outputs": [
    {
     "data": {
      "image/png": "[encoded data removed]",
      "text/plain": [
       "<Figure size 792x504 with 1 Axes>"
      ]
     },
     "metadata": {},
     "output_type": "display_data"
    }
   ],
   "source": [
    "import numpy as np\n",
    "import scipy\n",
    "Cupper_Points = np.array(coffee['Cupper.Points'])\n",
    "coffee['z_score'] = scipy.stats.zscore(Cupper_Points)\n",
    "\n",
    "coffee.drop(coffee.loc[coffee['z_score'] < -3].index, inplace=True)\n",
    "\n",
    "fig, ax = plt.subplots(figsize=(11,7))\n",
    "sns.kdeplot(coffee['z_score'], palette=palette, data=coffee)\n",
    "plt.show()"
   ]
  },
  {
   "cell_type": "code",
   "execution_count": 29,
   "id": "274559f0-b787-4e59-a5e3-14d9da192024",
   "metadata": {},
   "outputs": [
    {
     "name": "stdout",
     "output_type": "stream",
     "text": [
      "2.770448782765074\n",
      "-2.904906738278583\n"
     ]
    }
   ],
   "source": [
    "print(coffee['z_score'].max())\n",
    "print(coffee['z_score'].min())"
   ]
  },
  {
   "cell_type": "code",
   "execution_count": 30,
   "id": "7db0fb45-abd2-482e-92fd-23d5d9192932",
   "metadata": {},
   "outputs": [
    {
     "data": {
      "image/png": "[encoded data removed]",
      "text/plain": [
       "<Figure size 792x504 with 1 Axes>"
      ]
     },
     "metadata": {},
     "output_type": "display_data"
    }
   ],
   "source": [
    "fig, ax = plt.subplots(figsize=(11,7))\n",
    "sns.set_style('darkgrid')\n",
    "palette =['#654321', '#0BA8E6']\n",
    "sns.barplot(x=\"Processing.Method\", y=\"Flavor\", palette=palette, data=coffee)\n",
    "plt.show()"
   ]
  },
  {
   "cell_type": "code",
   "execution_count": 31,
   "id": "32fb9362",
   "metadata": {},
   "outputs": [],
   "source": [
    "def groupby_category(df, category, column):\n",
    "    \"\"\"This function groups the dataframe by a given column and sorts the groupby result in descending\n",
    "    order\n",
    "    :df stands the dataframe object being taken as an input by the function\n",
    "    :category is a categorical column to group the dataframe by\n",
    "    column is the numerical column to aggregate in the groupby\"\"\"\n",
    "    \n",
    "    length = df[category].nunique()\n",
    "    grouped = df.groupby(category).agg({column:'mean'}).nlargest(length, column).reset_index()\n",
    "    return grouped"
   ]
  },
  {
   "cell_type": "code",
   "execution_count": 32,
   "id": "8737eb36",
   "metadata": {},
   "outputs": [],
   "source": [
    "by_country = groupby_category(coffee, 'Country.of.Origin', 'Cupper.Points')"
   ]
  },
  {
   "cell_type": "code",
   "execution_count": 33,
   "id": "4389ab7a",
   "metadata": {},
   "outputs": [],
   "source": [
    "def make_plot(df, col_x, col_y, title):\n",
    "    \n",
    "    \n",
    "    fig, ax = plt.subplots(figsize=(12,7))\n",
    "    sns.set(rc={'axes.facecolor':'white', 'figure.facecolor':'white'})\n",
    "\n",
    "    palette = sns.color_palette('Set1')\n",
    "    font = {'family':'sans serif', 'color':'black',\n",
    "       'weight':'normal', 'size':12\n",
    "           }\n",
    "    \n",
    "    sns.barplot(x=col_x, y=col_y, order=df[col_y],\n",
    "            data=df, color='brown')\n",
    "    ax.set_title('Global Ranking of Countries Based on Coffee Cupper Points', fontdict=font)\n",
    "    ax.set_xlabel(col_x, fontdict=font)\n",
    "    ax.set_ylabel(col_y, fontdict=font)\n",
    "    "
   ]
  },
  {
   "cell_type": "code",
   "execution_count": 34,
   "id": "4e3f8566",
   "metadata": {},
   "outputs": [
    {
     "data": {
      "image/png": "[encoded data removed]",
      "text/plain": [
       "<Figure size 864x504 with 1 Axes>"
      ]
     },
     "metadata": {},
     "output_type": "display_data"
    }
   ],
   "source": [
    "title_text = {'one':'Global Ranking of Countries Based on Coffee Cupper Points',\n",
    "              'two':'Global Ranking of Countries Based on the Number of Coffee Bags Sold'\n",
    "             }\n",
    "make_plot(by_country, 'Cupper.Points', 'Country.of.Origin', title_text['one'])"
   ]
  },
  {
   "cell_type": "code",
   "execution_count": 35,
   "id": "d637b3f3-6fac-41e2-9e5f-a438eb993a2a",
   "metadata": {},
   "outputs": [],
   "source": [
    "country_bags = groupby_category(coffee, 'Country.of.Origin', 'Number.of.Bags')"
   ]
  },
  {
   "cell_type": "code",
   "execution_count": 36,
   "id": "d4745b04",
   "metadata": {},
   "outputs": [
    {
     "data": {
      "image/png": "[encoded data removed]",
      "text/plain": [
       "<Figure size 864x504 with 1 Axes>"
      ]
     },
     "metadata": {},
     "output_type": "display_data"
    }
   ],
   "source": [
    "make_plot(country_bags, 'Number.of.Bags', 'Country.of.Origin', title_text['two'])"
   ]
  },
  {
   "cell_type": "code",
   "execution_count": 39,
   "id": "345eec1e-80ae-4c1f-90e9-f009c38903e3",
   "metadata": {},
   "outputs": [
    {
     "data": {
      "text/html": [
       "<div>\n",
       "<style scoped>\n",
       "    .dataframe tbody tr th:only-of-type {\n",
       "        vertical-align: middle;\n",
       "    }\n",
       "\n",
       "    .dataframe tbody tr th {\n",
       "        vertical-align: top;\n",
       "    }\n",
       "\n",
       "    .dataframe thead th {\n",
       "        text-align: right;\n",
       "    }\n",
       "</style>\n",
       "<table border=\"1\" class=\"dataframe\">\n",
       "  <thead>\n",
       "    <tr style=\"text-align: right;\">\n",
       "      <th></th>\n",
       "      <th>Mill</th>\n",
       "      <th>Cupper.Points</th>\n",
       "    </tr>\n",
       "  </thead>\n",
       "  <tbody>\n",
       "    <tr>\n",
       "      <th>0</th>\n",
       "      <td>echo coffee mill</td>\n",
       "      <td>8.420</td>\n",
       "    </tr>\n",
       "    <tr>\n",
       "      <th>1</th>\n",
       "      <td>exclusive coffees s.a,</td>\n",
       "      <td>8.420</td>\n",
       "    </tr>\n",
       "    <tr>\n",
       "      <th>2</th>\n",
       "      <td>kabum trading company</td>\n",
       "      <td>8.170</td>\n",
       "    </tr>\n",
       "    <tr>\n",
       "      <th>3</th>\n",
       "      <td>central kenya coffee mills</td>\n",
       "      <td>8.125</td>\n",
       "    </tr>\n",
       "    <tr>\n",
       "      <th>4</th>\n",
       "      <td>coopeagri</td>\n",
       "      <td>8.000</td>\n",
       "    </tr>\n",
       "    <tr>\n",
       "      <th>5</th>\n",
       "      <td>sunshine valley estate 向陽高山咖啡</td>\n",
       "      <td>8.000</td>\n",
       "    </tr>\n",
       "    <tr>\n",
       "      <th>6</th>\n",
       "      <td>several - coricafe dry mill</td>\n",
       "      <td>8.000</td>\n",
       "    </tr>\n",
       "    <tr>\n",
       "      <th>7</th>\n",
       "      <td>beneficio casa ruiz s.a.</td>\n",
       "      <td>8.000</td>\n",
       "    </tr>\n",
       "    <tr>\n",
       "      <th>8</th>\n",
       "      <td>nkg coffee mills</td>\n",
       "      <td>8.000</td>\n",
       "    </tr>\n",
       "    <tr>\n",
       "      <th>9</th>\n",
       "      <td>apollo estate</td>\n",
       "      <td>8.000</td>\n",
       "    </tr>\n",
       "    <tr>\n",
       "      <th>10</th>\n",
       "      <td>great lakes coffee</td>\n",
       "      <td>8.000</td>\n",
       "    </tr>\n",
       "    <tr>\n",
       "      <th>11</th>\n",
       "      <td>beneficio valparaiso</td>\n",
       "      <td>8.000</td>\n",
       "    </tr>\n",
       "    <tr>\n",
       "      <th>12</th>\n",
       "      <td>los angeles micro-mill</td>\n",
       "      <td>8.000</td>\n",
       "    </tr>\n",
       "    <tr>\n",
       "      <th>13</th>\n",
       "      <td>beneficio santo domingo - beneficio dosmil</td>\n",
       "      <td>8.000</td>\n",
       "    </tr>\n",
       "    <tr>\n",
       "      <th>14</th>\n",
       "      <td>j.j. borja nathan</td>\n",
       "      <td>8.000</td>\n",
       "    </tr>\n",
       "    <tr>\n",
       "      <th>15</th>\n",
       "      <td>coffee business center (cbc) dry mill</td>\n",
       "      <td>8.000</td>\n",
       "    </tr>\n",
       "    <tr>\n",
       "      <th>16</th>\n",
       "      <td>j. hill y cia</td>\n",
       "      <td>7.960</td>\n",
       "    </tr>\n",
       "    <tr>\n",
       "      <th>17</th>\n",
       "      <td>chang yu liang 張玉良</td>\n",
       "      <td>7.920</td>\n",
       "    </tr>\n",
       "    <tr>\n",
       "      <th>18</th>\n",
       "      <td>beneficio san diego</td>\n",
       "      <td>7.920</td>\n",
       "    </tr>\n",
       "    <tr>\n",
       "      <th>19</th>\n",
       "      <td>pu'er city longke coffee co.ltd</td>\n",
       "      <td>7.920</td>\n",
       "    </tr>\n",
       "  </tbody>\n",
       "</table>\n",
       "</div>"
      ],
      "text/plain": [
       "                                          Mill  Cupper.Points\n",
       "0                             echo coffee mill          8.420\n",
       "1                       exclusive coffees s.a,          8.420\n",
       "2                        kabum trading company          8.170\n",
       "3                   central kenya coffee mills          8.125\n",
       "4                                    coopeagri          8.000\n",
       "5                sunshine valley estate 向陽高山咖啡          8.000\n",
       "6                  several - coricafe dry mill          8.000\n",
       "7                     beneficio casa ruiz s.a.          8.000\n",
       "8                             nkg coffee mills          8.000\n",
       "9                                apollo estate          8.000\n",
       "10                          great lakes coffee          8.000\n",
       "11                        beneficio valparaiso          8.000\n",
       "12                      los angeles micro-mill          8.000\n",
       "13  beneficio santo domingo - beneficio dosmil          8.000\n",
       "14                           j.j. borja nathan          8.000\n",
       "15       coffee business center (cbc) dry mill          8.000\n",
       "16                               j. hill y cia          7.960\n",
       "17                          chang yu liang 張玉良          7.920\n",
       "18                         beneficio san diego          7.920\n",
       "19             pu'er city longke coffee co.ltd          7.920"
      ]
     },
     "execution_count": 39,
     "metadata": {},
     "output_type": "execute_result"
    }
   ],
   "source": [
    "mills_by_quality = groupby_category(coffee, 'Mill', 'Cupper.Points')\n",
    "mills_by_quality.iloc[:20, :]"
   ]
  },
  {
   "cell_type": "code",
   "execution_count": null,
   "id": "dc2c2f0a",
   "metadata": {},
   "outputs": [],
   "source": []
  }
 ],
 "metadata": {
  "kernelspec": {
   "display_name": "Python 3",
   "language": "python",
   "name": "python3"
  },
  "language_info": {
   "codemirror_mode": {
    "name": "ipython",
    "version": 3
   },
   "file_extension": ".py",
   "mimetype": "text/x-python",
   "name": "python",
   "nbconvert_exporter": "python",
   "pygments_lexer": "ipython3",
   "version": "3.8.8"
  }
 },
 "nbformat": 4,
 "nbformat_minor": 5
}
