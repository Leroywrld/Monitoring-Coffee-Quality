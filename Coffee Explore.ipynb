{
 "cells": [
  {
   "cell_type": "code",
   "execution_count": 1,
   "id": "17eaca51",
   "metadata": {},
   "outputs": [],
   "source": [
    "import seaborn as sns\n",
    "import pandas as pd\n",
    "import matplotlib.pyplot as plt\n",
    "import warnings\n",
    "warnings.filterwarnings(\"ignore\")"
   ]
  },
  {
   "cell_type": "code",
   "execution_count": null,
   "id": "68dcf7d1",
   "metadata": {},
   "outputs": [],
   "source": [
    "## read the file\n",
    "arabica_coffee = pd.read_csv('arabica_data_cleaned.csv')"
   ]
  },
  {
   "cell_type": "code",
   "execution_count": null,
   "id": "8f8980fd",
   "metadata": {
    "tags": []
   },
   "outputs": [],
   "source": [
    "def see_shape(df:pd.DataFrame)->tuple:\n",
    "    \"\"\"this function returns a tuple containing the shape of the dataframe and\n",
    "    the list of columns contained in the dataframe\"\"\"\n",
    "    shape = df.shape\n",
    "    cols_list = df.columns\n",
    "    return shape, cols_list"
   ]
  },
  {
   "cell_type": "code",
   "execution_count": 4,
   "id": "08b79e8d",
   "metadata": {},
   "outputs": [],
   "source": [
    "## list of columns to be dropped\n",
    "dropped_cols = ['Unnamed: 0', 'Species', 'Owner', 'Lot.Number', 'ICO.Number', 'Company', 'Altitude',\n",
    "                'Producer', 'Bag.Weight', 'In.Country.Partner', 'Grading.Date', 'Owner.1',\n",
    "                'Clean.Cup', 'Uniformity', 'Total.Cup.Points', 'Moisture', 'Category.One.Defects',\n",
    "                'Quakers', 'Color', 'Category.Two.Defects', 'Expiration', 'Certification.Address',\n",
    "                'Certification.Contact', 'unit_of_measurement', 'altitude_low_meters', 'altitude_high_meters']\n",
    "\n",
    "\n",
    "def drop_cols(df:pd.DataFrame, cols:list)->pd.DataFrame:\n",
    "    \"\"\"this function drops unwanted columns from a dataframe and returns\n",
    "    a dataframe with the remaining columns\"\"\"\n",
    "    df.drop(cols, axis='columns', inplace=True)\n",
    "    return df"
   ]
  },
  {
   "cell_type": "code",
   "execution_count": 5,
   "id": "42e968a9",
   "metadata": {},
   "outputs": [
    {
     "data": {
      "text/plain": [
       "Unnamed: 0                  0\n",
       "Species                     0\n",
       "Owner                       7\n",
       "Country.of.Origin           1\n",
       "Farm.Name                 356\n",
       "Lot.Number               1041\n",
       "Mill                      310\n",
       "ICO.Number                146\n",
       "Company                   209\n",
       "Altitude                  223\n",
       "Region                     57\n",
       "Producer                  230\n",
       "Number.of.Bags              0\n",
       "Bag.Weight                  0\n",
       "In.Country.Partner          0\n",
       "Harvest.Year               47\n",
       "Grading.Date                0\n",
       "Owner.1                     7\n",
       "Variety                   201\n",
       "Processing.Method         152\n",
       "Aroma                       0\n",
       "Flavor                      0\n",
       "Aftertaste                  0\n",
       "Acidity                     0\n",
       "Body                        0\n",
       "Balance                     0\n",
       "Uniformity                  0\n",
       "Clean.Cup                   0\n",
       "Sweetness                   0\n",
       "Cupper.Points               0\n",
       "Total.Cup.Points            0\n",
       "Moisture                    0\n",
       "Category.One.Defects        0\n",
       "Quakers                     1\n",
       "Color                     216\n",
       "Category.Two.Defects        0\n",
       "Expiration                  0\n",
       "Certification.Body          0\n",
       "Certification.Address       0\n",
       "Certification.Contact       0\n",
       "unit_of_measurement         0\n",
       "altitude_low_meters       227\n",
       "altitude_high_meters      227\n",
       "altitude_mean_meters      227\n",
       "dtype: int64"
      ]
     },
     "execution_count": 5,
     "metadata": {},
     "output_type": "execute_result"
    }
   ],
   "source": [
    "arabica_coffee.isnull().sum()"
   ]
  },
  {
   "cell_type": "code",
   "execution_count": 6,
   "id": "b430d8aa",
   "metadata": {},
   "outputs": [],
   "source": [
    "def drop_nulls(df:pd.DataFrame)->pd.DataFrame:\n",
    "    \"\"\"this function drops missing along the rows of\n",
    "    the dataframe. It returns a dataframe free of missing values\"\"\"\n",
    "    df.dropna(axis='rows', inplace=True)\n",
    "    return df"
   ]
  },
  {
   "cell_type": "code",
   "execution_count": 7,
   "id": "3d56a47e",
   "metadata": {},
   "outputs": [],
   "source": [
    "def rename_cols(df:pd.DataFrame)->pd.DataFrame:\n",
    "    df.columns = [ name.lower().replace('.', '_') for name in df.columns]\n",
    "    return df   "
   ]
  },
  {
   "cell_type": "code",
   "execution_count": null,
   "id": "4454e609",
   "metadata": {},
   "outputs": [],
   "source": [
    "type_dict = {'country_of_origin':'string_', 'farm_name':'string_', 'mill':'string_', 'region':'string_',\n",
    "             'number_of_bags':'int16', 'harvest_year':'int16', 'variety':'category', 'processing_method':'category',\n",
    "             'aroma':'float16', ''\n",
    "    \n",
    "}\n",
    "\n",
    "def tweak_dtypes(df:pd.DataFrame, type_dict:dict)->pd.DataFrame:\n",
    "    df.astype(type_dict)"
   ]
  },
  {
   "cell_type": "code",
   "execution_count": 8,
   "id": "a2c86ff5",
   "metadata": {},
   "outputs": [],
   "source": [
    "arabica_coffee = arabica_coffee.pipe(drop_cols, dropped_cols).pipe(drop_nulls).pipe(rename_cols)"
   ]
  },
  {
   "cell_type": "code",
   "execution_count": 9,
   "id": "a8ea5386",
   "metadata": {},
   "outputs": [
    {
     "name": "stdout",
     "output_type": "stream",
     "text": [
      "<class 'pandas.core.frame.DataFrame'>\n",
      "Int64Index: 743 entries, 1 to 1309\n",
      "Data columns (total 18 columns):\n",
      " #   Column                Non-Null Count  Dtype  \n",
      "---  ------                --------------  -----  \n",
      " 0   country_of_origin     743 non-null    object \n",
      " 1   farm_name             743 non-null    object \n",
      " 2   mill                  743 non-null    object \n",
      " 3   region                743 non-null    object \n",
      " 4   number_of_bags        743 non-null    int64  \n",
      " 5   harvest_year          743 non-null    object \n",
      " 6   variety               743 non-null    object \n",
      " 7   processing_method     743 non-null    object \n",
      " 8   aroma                 743 non-null    float64\n",
      " 9   flavor                743 non-null    float64\n",
      " 10  aftertaste            743 non-null    float64\n",
      " 11  acidity               743 non-null    float64\n",
      " 12  body                  743 non-null    float64\n",
      " 13  balance               743 non-null    float64\n",
      " 14  sweetness             743 non-null    float64\n",
      " 15  cupper_points         743 non-null    float64\n",
      " 16  certification_body    743 non-null    object \n",
      " 17  altitude_mean_meters  743 non-null    float64\n",
      "dtypes: float64(9), int64(1), object(8)\n",
      "memory usage: 110.3+ KB\n"
     ]
    }
   ],
   "source": [
    "arabica_coffee.info()"
   ]
  }
 ],
 "metadata": {
  "kernelspec": {
   "display_name": "Python 3",
   "language": "python",
   "name": "python3"
  },
  "language_info": {
   "codemirror_mode": {
    "name": "ipython",
    "version": 3
   },
   "file_extension": ".py",
   "mimetype": "text/x-python",
   "name": "python",
   "nbconvert_exporter": "python",
   "pygments_lexer": "ipython3",
   "version": "3.8.8"
  }
 },
 "nbformat": 4,
 "nbformat_minor": 5
}
